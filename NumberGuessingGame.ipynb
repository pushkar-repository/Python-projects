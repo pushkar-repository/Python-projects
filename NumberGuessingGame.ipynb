{
  "nbformat": 4,
  "nbformat_minor": 0,
  "metadata": {
    "colab": {
      "provenance": [],
      "authorship_tag": "ABX9TyMcIMJk0rgJTT8/pP6hsRiY",
      "include_colab_link": true
    },
    "kernelspec": {
      "name": "python3",
      "display_name": "Python 3"
    },
    "language_info": {
      "name": "python"
    }
  },
  "cells": [
    {
      "cell_type": "markdown",
      "metadata": {
        "id": "view-in-github",
        "colab_type": "text"
      },
      "source": [
        "<a href=\"https://colab.research.google.com/github/pushkar-repository/Python-projects/blob/main/NumberGuessingGame.ipynb\" target=\"_parent\"><img src=\"https://colab.research.google.com/assets/colab-badge.svg\" alt=\"Open In Colab\"/></a>"
      ]
    },
    {
      "cell_type": "code",
      "execution_count": 5,
      "metadata": {
        "id": "lu6YLJkU1WCO"
      },
      "outputs": [],
      "source": [
        "import random\n",
        "import math"
      ]
    },
    {
      "cell_type": "code",
      "source": [
        "# Taking Inputs\n",
        "lower = int(input(\"Enter Lower bound:- \"))\n",
        "upper = int(input(\"Enter Upper bound:- \"))"
      ],
      "metadata": {
        "colab": {
          "base_uri": "https://localhost:8080/"
        },
        "id": "XQ5a2hmQ1waL",
        "outputId": "a269f3c9-bac1-4e1c-cae7-f089ea7042ec"
      },
      "execution_count": 6,
      "outputs": [
        {
          "name": "stdout",
          "output_type": "stream",
          "text": [
            "Enter Lower bound:- 1\n",
            "Enter Upper bound:- 1000\n"
          ]
        }
      ]
    },
    {
      "cell_type": "code",
      "source": [
        "x = random.randint(lower, upper)\n",
        "print(\"\\n\\tYou've only \",\n",
        "       round(math.log(upper - lower + 1, 2)),\n",
        "      \" chances to guess the integer!\\n\")"
      ],
      "metadata": {
        "colab": {
          "base_uri": "https://localhost:8080/"
        },
        "id": "sgSEknJ62KXn",
        "outputId": "6aff8a9c-0c41-476f-ecef-f69e4861af03"
      },
      "execution_count": 18,
      "outputs": [
        {
          "output_type": "stream",
          "name": "stdout",
          "text": [
            "\n",
            "\tYou've only  10  chances to guess the integer!\n",
            "\n"
          ]
        }
      ]
    },
    {
      "cell_type": "code",
      "source": [
        "# Initializing the number of guesses.\n",
        "count = 0\n",
        "\n",
        "# for calculation of minimum number of\n",
        "# guesses depends upon range\n",
        "while count <= math.log(upper - lower + 1, 2):\n",
        "    count += 1\n",
        "\n",
        "    # taking guessing number as input\n",
        "    guess = int(input(\"Guess a number:- \"))\n",
        "\n",
        "    # Condition testing\n",
        "    if x == guess:\n",
        "        print(\"Congratulations you did it in \",\n",
        "              count, \" try\")\n",
        "        # Once guessed, loop will break\n",
        "        break\n",
        "    elif x > guess:\n",
        "        print(\"You guessed too small!\")\n",
        "    elif x < guess:\n",
        "        print(\"You Guessed too high!\")\n",
        "\n",
        "# If Guessing is more than required guesses,\n",
        "# shows this output.\n",
        "if count > math.log(upper - lower + 1, 2)+1:\n",
        "    print(\"\\nThe number is %d\" % x)\n",
        "    print(\"\\tBetter Luck Next time!\")\n",
        "\n",
        "# Better to use This source Code on pycharm!"
      ],
      "metadata": {
        "colab": {
          "base_uri": "https://localhost:8080/"
        },
        "id": "Pd4dLmIt2RQh",
        "outputId": "7edd638f-058f-4c77-d675-b21c369749f7"
      },
      "execution_count": 20,
      "outputs": [
        {
          "output_type": "stream",
          "name": "stdout",
          "text": [
            "Guess a number:- 7674\n",
            "You Guessed too high!\n",
            "Guess a number:- 232\n",
            "You guessed too small!\n",
            "Guess a number:- 231\n",
            "You guessed too small!\n",
            "Guess a number:- 131\n",
            "You guessed too small!\n",
            "Guess a number:- 121\n",
            "You guessed too small!\n",
            "Guess a number:- 389\n",
            "You guessed too small!\n",
            "Guess a number:- 908\n",
            "You Guessed too high!\n",
            "Guess a number:- 875\n",
            "You Guessed too high!\n",
            "Guess a number:- 769\n",
            "You Guessed too high!\n",
            "Guess a number:- 765\n",
            "Congratulations you did it in  10  try\n"
          ]
        }
      ]
    }
  ]
}